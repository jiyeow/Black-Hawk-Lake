{
 "cells": [
  {
   "cell_type": "markdown",
   "metadata": {},
   "source": [
    "#### The goal of this project file is to predict nitrogen, phosphorus, and sediment concentrations at subwatersheds 11 and 12\n",
    "\n",
    "#### There are three subsections:\n",
    "a) Nitrogen prediction using total nitrogen <br>\n",
    "b) Phosphorus prediction using total phosphorus <br>\n",
    "c) Sediment prediction using total suspended solids"
   ]
  },
  {
   "cell_type": "code",
   "execution_count": 2,
   "metadata": {},
   "outputs": [],
   "source": [
    "import pandas as pd\n",
    "import math\n",
    "import numpy as np\n",
    "import sklearn as sk\n",
    "import sklearn.datasets as skd\n",
    "import sklearn.ensemble as ske\n",
    "import matplotlib.pyplot as plt\n",
    "import seaborn as sns\n",
    "import datetime as dt\n",
    "%matplotlib inline"
   ]
  },
  {
   "cell_type": "markdown",
   "metadata": {},
   "source": [
    "#### Main nutrients dataset"
   ]
  },
  {
   "cell_type": "code",
   "execution_count": 3,
   "metadata": {},
   "outputs": [
    {
     "data": {
      "text/html": [
       "<div>\n",
       "<style scoped>\n",
       "    .dataframe tbody tr th:only-of-type {\n",
       "        vertical-align: middle;\n",
       "    }\n",
       "\n",
       "    .dataframe tbody tr th {\n",
       "        vertical-align: top;\n",
       "    }\n",
       "\n",
       "    .dataframe thead th {\n",
       "        text-align: right;\n",
       "    }\n",
       "</style>\n",
       "<table border=\"1\" class=\"dataframe\">\n",
       "  <thead>\n",
       "    <tr style=\"text-align: right;\">\n",
       "      <th></th>\n",
       "      <th>Site</th>\n",
       "      <th>Start date</th>\n",
       "      <th>End date</th>\n",
       "      <th>Sample date</th>\n",
       "      <th>Collection method</th>\n",
       "      <th>Sample type</th>\n",
       "      <th>Flow (cms)</th>\n",
       "      <th>NH3-N (mg N/L)</th>\n",
       "      <th>DRP (mg P/L)</th>\n",
       "      <th>NOx-N (mg N/L)</th>\n",
       "      <th>TN (mg N/L)</th>\n",
       "      <th>TP (mg P/L)</th>\n",
       "      <th>TSS (mg/L)</th>\n",
       "      <th>VSS (mg/L)</th>\n",
       "    </tr>\n",
       "  </thead>\n",
       "  <tbody>\n",
       "    <tr>\n",
       "      <th>0</th>\n",
       "      <td>S11</td>\n",
       "      <td>2015-03-15</td>\n",
       "      <td>2015-03-20</td>\n",
       "      <td>2015-03-20</td>\n",
       "      <td>Grab</td>\n",
       "      <td>Base</td>\n",
       "      <td>0.0060</td>\n",
       "      <td>0.0137</td>\n",
       "      <td>0.020</td>\n",
       "      <td>50.9792</td>\n",
       "      <td>41.6</td>\n",
       "      <td>0.025</td>\n",
       "      <td>1.692308</td>\n",
       "      <td>1.230769</td>\n",
       "    </tr>\n",
       "    <tr>\n",
       "      <th>1</th>\n",
       "      <td>S11</td>\n",
       "      <td>2015-03-20</td>\n",
       "      <td>2015-03-27</td>\n",
       "      <td>2015-03-27</td>\n",
       "      <td>Grab</td>\n",
       "      <td>Base</td>\n",
       "      <td>0.0060</td>\n",
       "      <td>0.0042</td>\n",
       "      <td>0.020</td>\n",
       "      <td>48.7837</td>\n",
       "      <td>40.8</td>\n",
       "      <td>0.014</td>\n",
       "      <td>0.500000</td>\n",
       "      <td>0.500000</td>\n",
       "    </tr>\n",
       "    <tr>\n",
       "      <th>2</th>\n",
       "      <td>S11</td>\n",
       "      <td>2015-03-27</td>\n",
       "      <td>2015-04-03</td>\n",
       "      <td>2015-04-03</td>\n",
       "      <td>Grab</td>\n",
       "      <td>Base</td>\n",
       "      <td>0.0240</td>\n",
       "      <td>0.0056</td>\n",
       "      <td>0.001</td>\n",
       "      <td>45.4211</td>\n",
       "      <td>42.8</td>\n",
       "      <td>0.015</td>\n",
       "      <td>1.231527</td>\n",
       "      <td>1.970443</td>\n",
       "    </tr>\n",
       "    <tr>\n",
       "      <th>3</th>\n",
       "      <td>S11</td>\n",
       "      <td>2015-04-03</td>\n",
       "      <td>2015-04-11</td>\n",
       "      <td>2015-04-11</td>\n",
       "      <td>Grab</td>\n",
       "      <td>Base</td>\n",
       "      <td>0.0245</td>\n",
       "      <td>0.0174</td>\n",
       "      <td>0.012</td>\n",
       "      <td>46.5769</td>\n",
       "      <td>43.0</td>\n",
       "      <td>0.029</td>\n",
       "      <td>7.540395</td>\n",
       "      <td>6.642729</td>\n",
       "    </tr>\n",
       "    <tr>\n",
       "      <th>4</th>\n",
       "      <td>S11</td>\n",
       "      <td>2015-04-11</td>\n",
       "      <td>2015-04-17</td>\n",
       "      <td>2015-04-17</td>\n",
       "      <td>Grab</td>\n",
       "      <td>Base</td>\n",
       "      <td>0.0250</td>\n",
       "      <td>0.0166</td>\n",
       "      <td>0.001</td>\n",
       "      <td>48.2718</td>\n",
       "      <td>43.0</td>\n",
       "      <td>0.016</td>\n",
       "      <td>1.691729</td>\n",
       "      <td>0.500000</td>\n",
       "    </tr>\n",
       "  </tbody>\n",
       "</table>\n",
       "</div>"
      ],
      "text/plain": [
       "  Site Start date   End date Sample date Collection method Sample type  \\\n",
       "0  S11 2015-03-15 2015-03-20  2015-03-20              Grab        Base   \n",
       "1  S11 2015-03-20 2015-03-27  2015-03-27              Grab        Base   \n",
       "2  S11 2015-03-27 2015-04-03  2015-04-03              Grab        Base   \n",
       "3  S11 2015-04-03 2015-04-11  2015-04-11              Grab        Base   \n",
       "4  S11 2015-04-11 2015-04-17  2015-04-17              Grab        Base   \n",
       "\n",
       "   Flow (cms)  NH3-N (mg N/L)  DRP (mg P/L)  NOx-N (mg N/L)  TN (mg N/L)  \\\n",
       "0      0.0060          0.0137         0.020         50.9792         41.6   \n",
       "1      0.0060          0.0042         0.020         48.7837         40.8   \n",
       "2      0.0240          0.0056         0.001         45.4211         42.8   \n",
       "3      0.0245          0.0174         0.012         46.5769         43.0   \n",
       "4      0.0250          0.0166         0.001         48.2718         43.0   \n",
       "\n",
       "   TP (mg P/L)  TSS (mg/L)  VSS (mg/L)  \n",
       "0        0.025    1.692308    1.230769  \n",
       "1        0.014    0.500000    0.500000  \n",
       "2        0.015    1.231527    1.970443  \n",
       "3        0.029    7.540395    6.642729  \n",
       "4        0.016    1.691729    0.500000  "
      ]
     },
     "execution_count": 3,
     "metadata": {},
     "output_type": "execute_result"
    }
   ],
   "source": [
    "df_main = pd.read_excel('2015-19 raw data.xlsx', sheet_name = 'Raw data')\n",
    "df_main.head()"
   ]
  },
  {
   "cell_type": "code",
   "execution_count": 4,
   "metadata": {},
   "outputs": [
    {
     "data": {
      "text/html": [
       "<div>\n",
       "<style scoped>\n",
       "    .dataframe tbody tr th:only-of-type {\n",
       "        vertical-align: middle;\n",
       "    }\n",
       "\n",
       "    .dataframe tbody tr th {\n",
       "        vertical-align: top;\n",
       "    }\n",
       "\n",
       "    .dataframe thead th {\n",
       "        text-align: right;\n",
       "    }\n",
       "</style>\n",
       "<table border=\"1\" class=\"dataframe\">\n",
       "  <thead>\n",
       "    <tr style=\"text-align: right;\">\n",
       "      <th></th>\n",
       "      <th>Site</th>\n",
       "      <th>Start date</th>\n",
       "      <th>End date</th>\n",
       "      <th>Sample date</th>\n",
       "      <th>Collection method</th>\n",
       "      <th>Sample type</th>\n",
       "      <th>Flow</th>\n",
       "      <th>NH3</th>\n",
       "      <th>DRP</th>\n",
       "      <th>NOx</th>\n",
       "      <th>TN</th>\n",
       "      <th>TP</th>\n",
       "      <th>TSS</th>\n",
       "      <th>VSS</th>\n",
       "    </tr>\n",
       "  </thead>\n",
       "  <tbody>\n",
       "    <tr>\n",
       "      <th>0</th>\n",
       "      <td>S11</td>\n",
       "      <td>2015-03-15</td>\n",
       "      <td>2015-03-20</td>\n",
       "      <td>2015-03-20</td>\n",
       "      <td>Grab</td>\n",
       "      <td>Base</td>\n",
       "      <td>0.0060</td>\n",
       "      <td>0.0137</td>\n",
       "      <td>0.020</td>\n",
       "      <td>50.9792</td>\n",
       "      <td>41.6</td>\n",
       "      <td>0.025</td>\n",
       "      <td>1.692308</td>\n",
       "      <td>1.230769</td>\n",
       "    </tr>\n",
       "    <tr>\n",
       "      <th>1</th>\n",
       "      <td>S11</td>\n",
       "      <td>2015-03-20</td>\n",
       "      <td>2015-03-27</td>\n",
       "      <td>2015-03-27</td>\n",
       "      <td>Grab</td>\n",
       "      <td>Base</td>\n",
       "      <td>0.0060</td>\n",
       "      <td>0.0042</td>\n",
       "      <td>0.020</td>\n",
       "      <td>48.7837</td>\n",
       "      <td>40.8</td>\n",
       "      <td>0.014</td>\n",
       "      <td>0.500000</td>\n",
       "      <td>0.500000</td>\n",
       "    </tr>\n",
       "    <tr>\n",
       "      <th>2</th>\n",
       "      <td>S11</td>\n",
       "      <td>2015-03-27</td>\n",
       "      <td>2015-04-03</td>\n",
       "      <td>2015-04-03</td>\n",
       "      <td>Grab</td>\n",
       "      <td>Base</td>\n",
       "      <td>0.0240</td>\n",
       "      <td>0.0056</td>\n",
       "      <td>0.001</td>\n",
       "      <td>45.4211</td>\n",
       "      <td>42.8</td>\n",
       "      <td>0.015</td>\n",
       "      <td>1.231527</td>\n",
       "      <td>1.970443</td>\n",
       "    </tr>\n",
       "    <tr>\n",
       "      <th>3</th>\n",
       "      <td>S11</td>\n",
       "      <td>2015-04-03</td>\n",
       "      <td>2015-04-11</td>\n",
       "      <td>2015-04-11</td>\n",
       "      <td>Grab</td>\n",
       "      <td>Base</td>\n",
       "      <td>0.0245</td>\n",
       "      <td>0.0174</td>\n",
       "      <td>0.012</td>\n",
       "      <td>46.5769</td>\n",
       "      <td>43.0</td>\n",
       "      <td>0.029</td>\n",
       "      <td>7.540395</td>\n",
       "      <td>6.642729</td>\n",
       "    </tr>\n",
       "    <tr>\n",
       "      <th>4</th>\n",
       "      <td>S11</td>\n",
       "      <td>2015-04-11</td>\n",
       "      <td>2015-04-17</td>\n",
       "      <td>2015-04-17</td>\n",
       "      <td>Grab</td>\n",
       "      <td>Base</td>\n",
       "      <td>0.0250</td>\n",
       "      <td>0.0166</td>\n",
       "      <td>0.001</td>\n",
       "      <td>48.2718</td>\n",
       "      <td>43.0</td>\n",
       "      <td>0.016</td>\n",
       "      <td>1.691729</td>\n",
       "      <td>0.500000</td>\n",
       "    </tr>\n",
       "  </tbody>\n",
       "</table>\n",
       "</div>"
      ],
      "text/plain": [
       "  Site Start date   End date Sample date Collection method Sample type  \\\n",
       "0  S11 2015-03-15 2015-03-20  2015-03-20              Grab        Base   \n",
       "1  S11 2015-03-20 2015-03-27  2015-03-27              Grab        Base   \n",
       "2  S11 2015-03-27 2015-04-03  2015-04-03              Grab        Base   \n",
       "3  S11 2015-04-03 2015-04-11  2015-04-11              Grab        Base   \n",
       "4  S11 2015-04-11 2015-04-17  2015-04-17              Grab        Base   \n",
       "\n",
       "     Flow     NH3    DRP      NOx    TN     TP       TSS       VSS  \n",
       "0  0.0060  0.0137  0.020  50.9792  41.6  0.025  1.692308  1.230769  \n",
       "1  0.0060  0.0042  0.020  48.7837  40.8  0.014  0.500000  0.500000  \n",
       "2  0.0240  0.0056  0.001  45.4211  42.8  0.015  1.231527  1.970443  \n",
       "3  0.0245  0.0174  0.012  46.5769  43.0  0.029  7.540395  6.642729  \n",
       "4  0.0250  0.0166  0.001  48.2718  43.0  0.016  1.691729  0.500000  "
      ]
     },
     "execution_count": 4,
     "metadata": {},
     "output_type": "execute_result"
    }
   ],
   "source": [
    "df_main = df_main.rename(columns={'Flow (cms)':'Flow', 'NH3-N (mg N/L)':'NH3','DRP (mg P/L)':'DRP', \n",
    "                                  'TP (mg P/L)':'TP', 'NOx-N (mg N/L)':'NOx', 'TN (mg N/L)':'TN', 'TSS (mg/L)':'TSS', 'VSS (mg/L)':'VSS'})\n",
    "df_main.head()"
   ]
  },
  {
   "cell_type": "code",
   "execution_count": 5,
   "metadata": {},
   "outputs": [
    {
     "data": {
      "text/html": [
       "<div>\n",
       "<style scoped>\n",
       "    .dataframe tbody tr th:only-of-type {\n",
       "        vertical-align: middle;\n",
       "    }\n",
       "\n",
       "    .dataframe tbody tr th {\n",
       "        vertical-align: top;\n",
       "    }\n",
       "\n",
       "    .dataframe thead th {\n",
       "        text-align: right;\n",
       "    }\n",
       "</style>\n",
       "<table border=\"1\" class=\"dataframe\">\n",
       "  <thead>\n",
       "    <tr style=\"text-align: right;\">\n",
       "      <th></th>\n",
       "      <th>Flow</th>\n",
       "      <th>NH3</th>\n",
       "      <th>DRP</th>\n",
       "      <th>NOx</th>\n",
       "      <th>TN</th>\n",
       "      <th>TP</th>\n",
       "      <th>TSS</th>\n",
       "      <th>VSS</th>\n",
       "    </tr>\n",
       "  </thead>\n",
       "  <tbody>\n",
       "    <tr>\n",
       "      <th>count</th>\n",
       "      <td>421.000000</td>\n",
       "      <td>421.000000</td>\n",
       "      <td>421.000000</td>\n",
       "      <td>421.000000</td>\n",
       "      <td>421.000000</td>\n",
       "      <td>421.000000</td>\n",
       "      <td>420.000000</td>\n",
       "      <td>420.000000</td>\n",
       "    </tr>\n",
       "    <tr>\n",
       "      <th>mean</th>\n",
       "      <td>0.040677</td>\n",
       "      <td>0.056572</td>\n",
       "      <td>0.020513</td>\n",
       "      <td>14.791683</td>\n",
       "      <td>16.110893</td>\n",
       "      <td>0.121568</td>\n",
       "      <td>99.116178</td>\n",
       "      <td>86.067153</td>\n",
       "    </tr>\n",
       "    <tr>\n",
       "      <th>std</th>\n",
       "      <td>0.080400</td>\n",
       "      <td>0.152421</td>\n",
       "      <td>0.040346</td>\n",
       "      <td>10.762100</td>\n",
       "      <td>11.079450</td>\n",
       "      <td>0.278622</td>\n",
       "      <td>604.552146</td>\n",
       "      <td>560.760562</td>\n",
       "    </tr>\n",
       "    <tr>\n",
       "      <th>min</th>\n",
       "      <td>0.000000</td>\n",
       "      <td>0.001200</td>\n",
       "      <td>0.001000</td>\n",
       "      <td>0.003000</td>\n",
       "      <td>0.250000</td>\n",
       "      <td>0.001500</td>\n",
       "      <td>0.500000</td>\n",
       "      <td>0.500000</td>\n",
       "    </tr>\n",
       "    <tr>\n",
       "      <th>25%</th>\n",
       "      <td>0.010626</td>\n",
       "      <td>0.002000</td>\n",
       "      <td>0.001000</td>\n",
       "      <td>7.696600</td>\n",
       "      <td>8.027800</td>\n",
       "      <td>0.017000</td>\n",
       "      <td>2.000000</td>\n",
       "      <td>1.307692</td>\n",
       "    </tr>\n",
       "    <tr>\n",
       "      <th>50%</th>\n",
       "      <td>0.020529</td>\n",
       "      <td>0.013600</td>\n",
       "      <td>0.006000</td>\n",
       "      <td>11.089000</td>\n",
       "      <td>12.235000</td>\n",
       "      <td>0.040000</td>\n",
       "      <td>9.166667</td>\n",
       "      <td>6.000000</td>\n",
       "    </tr>\n",
       "    <tr>\n",
       "      <th>75%</th>\n",
       "      <td>0.047111</td>\n",
       "      <td>0.055000</td>\n",
       "      <td>0.023000</td>\n",
       "      <td>22.132000</td>\n",
       "      <td>23.155000</td>\n",
       "      <td>0.095000</td>\n",
       "      <td>32.442900</td>\n",
       "      <td>24.541667</td>\n",
       "    </tr>\n",
       "    <tr>\n",
       "      <th>max</th>\n",
       "      <td>1.296460</td>\n",
       "      <td>1.897200</td>\n",
       "      <td>0.475000</td>\n",
       "      <td>50.979200</td>\n",
       "      <td>49.800000</td>\n",
       "      <td>3.118000</td>\n",
       "      <td>11166.000000</td>\n",
       "      <td>10454.000000</td>\n",
       "    </tr>\n",
       "  </tbody>\n",
       "</table>\n",
       "</div>"
      ],
      "text/plain": [
       "             Flow         NH3         DRP         NOx          TN          TP  \\\n",
       "count  421.000000  421.000000  421.000000  421.000000  421.000000  421.000000   \n",
       "mean     0.040677    0.056572    0.020513   14.791683   16.110893    0.121568   \n",
       "std      0.080400    0.152421    0.040346   10.762100   11.079450    0.278622   \n",
       "min      0.000000    0.001200    0.001000    0.003000    0.250000    0.001500   \n",
       "25%      0.010626    0.002000    0.001000    7.696600    8.027800    0.017000   \n",
       "50%      0.020529    0.013600    0.006000   11.089000   12.235000    0.040000   \n",
       "75%      0.047111    0.055000    0.023000   22.132000   23.155000    0.095000   \n",
       "max      1.296460    1.897200    0.475000   50.979200   49.800000    3.118000   \n",
       "\n",
       "                TSS           VSS  \n",
       "count    420.000000    420.000000  \n",
       "mean      99.116178     86.067153  \n",
       "std      604.552146    560.760562  \n",
       "min        0.500000      0.500000  \n",
       "25%        2.000000      1.307692  \n",
       "50%        9.166667      6.000000  \n",
       "75%       32.442900     24.541667  \n",
       "max    11166.000000  10454.000000  "
      ]
     },
     "execution_count": 5,
     "metadata": {},
     "output_type": "execute_result"
    }
   ],
   "source": [
    "df_main.describe()"
   ]
  },
  {
   "cell_type": "markdown",
   "metadata": {},
   "source": [
    "#### Auxiliary dataset\n",
    "##### Factors that can be potentially used for predicting N concentration\n",
    "- Daily precipitation\n",
    "- Antecedent precipitation\n",
    "- Seasonality\n",
    "- Flow (likely low impact on NOx and TN)\n",
    "- Temperature (likely low impact on NOx and TN)"
   ]
  },
  {
   "cell_type": "code",
   "execution_count": 6,
   "metadata": {},
   "outputs": [
    {
     "data": {
      "text/html": [
       "<div>\n",
       "<style scoped>\n",
       "    .dataframe tbody tr th:only-of-type {\n",
       "        vertical-align: middle;\n",
       "    }\n",
       "\n",
       "    .dataframe tbody tr th {\n",
       "        vertical-align: top;\n",
       "    }\n",
       "\n",
       "    .dataframe thead th {\n",
       "        text-align: right;\n",
       "    }\n",
       "</style>\n",
       "<table border=\"1\" class=\"dataframe\">\n",
       "  <thead>\n",
       "    <tr style=\"text-align: right;\">\n",
       "      <th></th>\n",
       "      <th>Date</th>\n",
       "      <th>ppt (mm)</th>\n",
       "      <th>tmin (degrees C)</th>\n",
       "      <th>tmean (degrees C)</th>\n",
       "      <th>tmax (degrees C)</th>\n",
       "      <th>tdmean (degrees C)</th>\n",
       "      <th>vpdmin (hPa)</th>\n",
       "      <th>vpdmax (hPa)</th>\n",
       "    </tr>\n",
       "  </thead>\n",
       "  <tbody>\n",
       "    <tr>\n",
       "      <th>0</th>\n",
       "      <td>1981-01-01</td>\n",
       "      <td>0.0</td>\n",
       "      <td>-2.0</td>\n",
       "      <td>1.3</td>\n",
       "      <td>4.6</td>\n",
       "      <td>-2.1</td>\n",
       "      <td>0.56</td>\n",
       "      <td>2.91</td>\n",
       "    </tr>\n",
       "    <tr>\n",
       "      <th>1</th>\n",
       "      <td>1981-01-02</td>\n",
       "      <td>0.0</td>\n",
       "      <td>-11.2</td>\n",
       "      <td>-4.7</td>\n",
       "      <td>1.9</td>\n",
       "      <td>-8.1</td>\n",
       "      <td>0.27</td>\n",
       "      <td>3.29</td>\n",
       "    </tr>\n",
       "    <tr>\n",
       "      <th>2</th>\n",
       "      <td>1981-01-03</td>\n",
       "      <td>0.0</td>\n",
       "      <td>-14.6</td>\n",
       "      <td>-4.6</td>\n",
       "      <td>5.5</td>\n",
       "      <td>-10.3</td>\n",
       "      <td>0.33</td>\n",
       "      <td>5.59</td>\n",
       "    </tr>\n",
       "    <tr>\n",
       "      <th>3</th>\n",
       "      <td>1981-01-04</td>\n",
       "      <td>0.0</td>\n",
       "      <td>-15.1</td>\n",
       "      <td>-12.9</td>\n",
       "      <td>-10.7</td>\n",
       "      <td>-21.6</td>\n",
       "      <td>0.70</td>\n",
       "      <td>1.69</td>\n",
       "    </tr>\n",
       "    <tr>\n",
       "      <th>4</th>\n",
       "      <td>1981-01-05</td>\n",
       "      <td>0.0</td>\n",
       "      <td>-13.5</td>\n",
       "      <td>-10.5</td>\n",
       "      <td>-7.6</td>\n",
       "      <td>-20.9</td>\n",
       "      <td>1.01</td>\n",
       "      <td>2.39</td>\n",
       "    </tr>\n",
       "  </tbody>\n",
       "</table>\n",
       "</div>"
      ],
      "text/plain": [
       "        Date  ppt (mm)  tmin (degrees C)  tmean (degrees C)  tmax (degrees C)  \\\n",
       "0 1981-01-01       0.0              -2.0                1.3               4.6   \n",
       "1 1981-01-02       0.0             -11.2               -4.7               1.9   \n",
       "2 1981-01-03       0.0             -14.6               -4.6               5.5   \n",
       "3 1981-01-04       0.0             -15.1              -12.9             -10.7   \n",
       "4 1981-01-05       0.0             -13.5              -10.5              -7.6   \n",
       "\n",
       "   tdmean (degrees C)  vpdmin (hPa)  vpdmax (hPa)  \n",
       "0                -2.1          0.56          2.91  \n",
       "1                -8.1          0.27          3.29  \n",
       "2               -10.3          0.33          5.59  \n",
       "3               -21.6          0.70          1.69  \n",
       "4               -20.9          1.01          2.39  "
      ]
     },
     "execution_count": 6,
     "metadata": {},
     "output_type": "execute_result"
    }
   ],
   "source": [
    "df_weather = pd.read_excel('Weather data.xlsx', sheet_name = 'Weather')\n",
    "df_weather.head()"
   ]
  },
  {
   "cell_type": "markdown",
   "metadata": {},
   "source": [
    "### Section 1 - Nitrogen"
   ]
  },
  {
   "cell_type": "code",
   "execution_count": 7,
   "metadata": {},
   "outputs": [
    {
     "data": {
      "text/html": [
       "<div>\n",
       "<style scoped>\n",
       "    .dataframe tbody tr th:only-of-type {\n",
       "        vertical-align: middle;\n",
       "    }\n",
       "\n",
       "    .dataframe tbody tr th {\n",
       "        vertical-align: top;\n",
       "    }\n",
       "\n",
       "    .dataframe thead th {\n",
       "        text-align: right;\n",
       "    }\n",
       "</style>\n",
       "<table border=\"1\" class=\"dataframe\">\n",
       "  <thead>\n",
       "    <tr style=\"text-align: right;\">\n",
       "      <th></th>\n",
       "      <th>Site</th>\n",
       "      <th>Start date</th>\n",
       "      <th>End date</th>\n",
       "      <th>Sample date</th>\n",
       "      <th>Collection method</th>\n",
       "      <th>Sample type</th>\n",
       "      <th>Flow</th>\n",
       "      <th>NH3</th>\n",
       "      <th>NOx</th>\n",
       "      <th>TN</th>\n",
       "    </tr>\n",
       "  </thead>\n",
       "  <tbody>\n",
       "    <tr>\n",
       "      <th>0</th>\n",
       "      <td>S11</td>\n",
       "      <td>2015-03-15</td>\n",
       "      <td>2015-03-20</td>\n",
       "      <td>2015-03-20</td>\n",
       "      <td>Grab</td>\n",
       "      <td>Base</td>\n",
       "      <td>0.0060</td>\n",
       "      <td>0.0137</td>\n",
       "      <td>50.9792</td>\n",
       "      <td>41.6</td>\n",
       "    </tr>\n",
       "    <tr>\n",
       "      <th>1</th>\n",
       "      <td>S11</td>\n",
       "      <td>2015-03-20</td>\n",
       "      <td>2015-03-27</td>\n",
       "      <td>2015-03-27</td>\n",
       "      <td>Grab</td>\n",
       "      <td>Base</td>\n",
       "      <td>0.0060</td>\n",
       "      <td>0.0042</td>\n",
       "      <td>48.7837</td>\n",
       "      <td>40.8</td>\n",
       "    </tr>\n",
       "    <tr>\n",
       "      <th>2</th>\n",
       "      <td>S11</td>\n",
       "      <td>2015-03-27</td>\n",
       "      <td>2015-04-03</td>\n",
       "      <td>2015-04-03</td>\n",
       "      <td>Grab</td>\n",
       "      <td>Base</td>\n",
       "      <td>0.0240</td>\n",
       "      <td>0.0056</td>\n",
       "      <td>45.4211</td>\n",
       "      <td>42.8</td>\n",
       "    </tr>\n",
       "    <tr>\n",
       "      <th>3</th>\n",
       "      <td>S11</td>\n",
       "      <td>2015-04-03</td>\n",
       "      <td>2015-04-11</td>\n",
       "      <td>2015-04-11</td>\n",
       "      <td>Grab</td>\n",
       "      <td>Base</td>\n",
       "      <td>0.0245</td>\n",
       "      <td>0.0174</td>\n",
       "      <td>46.5769</td>\n",
       "      <td>43.0</td>\n",
       "    </tr>\n",
       "    <tr>\n",
       "      <th>4</th>\n",
       "      <td>S11</td>\n",
       "      <td>2015-04-11</td>\n",
       "      <td>2015-04-17</td>\n",
       "      <td>2015-04-17</td>\n",
       "      <td>Grab</td>\n",
       "      <td>Base</td>\n",
       "      <td>0.0250</td>\n",
       "      <td>0.0166</td>\n",
       "      <td>48.2718</td>\n",
       "      <td>43.0</td>\n",
       "    </tr>\n",
       "  </tbody>\n",
       "</table>\n",
       "</div>"
      ],
      "text/plain": [
       "  Site Start date   End date Sample date Collection method Sample type  \\\n",
       "0  S11 2015-03-15 2015-03-20  2015-03-20              Grab        Base   \n",
       "1  S11 2015-03-20 2015-03-27  2015-03-27              Grab        Base   \n",
       "2  S11 2015-03-27 2015-04-03  2015-04-03              Grab        Base   \n",
       "3  S11 2015-04-03 2015-04-11  2015-04-11              Grab        Base   \n",
       "4  S11 2015-04-11 2015-04-17  2015-04-17              Grab        Base   \n",
       "\n",
       "     Flow     NH3      NOx    TN  \n",
       "0  0.0060  0.0137  50.9792  41.6  \n",
       "1  0.0060  0.0042  48.7837  40.8  \n",
       "2  0.0240  0.0056  45.4211  42.8  \n",
       "3  0.0245  0.0174  46.5769  43.0  \n",
       "4  0.0250  0.0166  48.2718  43.0  "
      ]
     },
     "execution_count": 7,
     "metadata": {},
     "output_type": "execute_result"
    }
   ],
   "source": [
    "# subsectioning nitrogen data\n",
    "df_nitrogen = df_main.drop(columns=['DRP','TP', 'TSS', 'VSS'])\n",
    "df_nitrogen.head()"
   ]
  },
  {
   "cell_type": "code",
   "execution_count": 8,
   "metadata": {},
   "outputs": [
    {
     "data": {
      "image/png": "[encoded data removed]",
      "text/plain": [
       "<Figure size 432x288 with 1 Axes>"
      ]
     },
     "metadata": {
      "needs_background": "light"
     },
     "output_type": "display_data"
    },
    {
     "data": {
      "image/png": "[encoded data removed]",
      "text/plain": [
       "<Figure size 432x288 with 1 Axes>"
      ]
     },
     "metadata": {
      "needs_background": "light"
     },
     "output_type": "display_data"
    },
    {
     "data": {
      "image/png": "[encoded data removed]",
      "text/plain": [
       "<Figure size 432x288 with 1 Axes>"
      ]
     },
     "metadata": {
      "needs_background": "light"
     },
     "output_type": "display_data"
    }
   ],
   "source": [
    "# visualizing N concentration distribution by sites\n",
    "list_of_analytes = ['NH3', 'NOx', 'TN']\n",
    "\n",
    "for x in list_of_analytes:\n",
    "    ax = sns.boxplot(x='Site', y=x, data=df_nitrogen)\n",
    "    plt.show()"
   ]
  },
  {
   "cell_type": "code",
   "execution_count": 9,
   "metadata": {},
   "outputs": [
    {
     "data": {
      "text/html": [
       "<div>\n",
       "<style scoped>\n",
       "    .dataframe tbody tr th:only-of-type {\n",
       "        vertical-align: middle;\n",
       "    }\n",
       "\n",
       "    .dataframe tbody tr th {\n",
       "        vertical-align: top;\n",
       "    }\n",
       "\n",
       "    .dataframe thead th {\n",
       "        text-align: right;\n",
       "    }\n",
       "</style>\n",
       "<table border=\"1\" class=\"dataframe\">\n",
       "  <thead>\n",
       "    <tr style=\"text-align: right;\">\n",
       "      <th></th>\n",
       "      <th>Site</th>\n",
       "      <th>Start date</th>\n",
       "      <th>End date</th>\n",
       "      <th>Sample date</th>\n",
       "      <th>Collection method</th>\n",
       "      <th>Sample type</th>\n",
       "      <th>Flow</th>\n",
       "      <th>NH3</th>\n",
       "      <th>NOx</th>\n",
       "      <th>TN</th>\n",
       "      <th>Year</th>\n",
       "      <th>Month</th>\n",
       "    </tr>\n",
       "  </thead>\n",
       "  <tbody>\n",
       "    <tr>\n",
       "      <th>0</th>\n",
       "      <td>S11</td>\n",
       "      <td>2015-03-15</td>\n",
       "      <td>2015-03-20</td>\n",
       "      <td>2015-03-20</td>\n",
       "      <td>Grab</td>\n",
       "      <td>Base</td>\n",
       "      <td>0.0060</td>\n",
       "      <td>0.0137</td>\n",
       "      <td>50.9792</td>\n",
       "      <td>41.6</td>\n",
       "      <td>2015</td>\n",
       "      <td>3</td>\n",
       "    </tr>\n",
       "    <tr>\n",
       "      <th>1</th>\n",
       "      <td>S11</td>\n",
       "      <td>2015-03-20</td>\n",
       "      <td>2015-03-27</td>\n",
       "      <td>2015-03-27</td>\n",
       "      <td>Grab</td>\n",
       "      <td>Base</td>\n",
       "      <td>0.0060</td>\n",
       "      <td>0.0042</td>\n",
       "      <td>48.7837</td>\n",
       "      <td>40.8</td>\n",
       "      <td>2015</td>\n",
       "      <td>3</td>\n",
       "    </tr>\n",
       "    <tr>\n",
       "      <th>2</th>\n",
       "      <td>S11</td>\n",
       "      <td>2015-03-27</td>\n",
       "      <td>2015-04-03</td>\n",
       "      <td>2015-04-03</td>\n",
       "      <td>Grab</td>\n",
       "      <td>Base</td>\n",
       "      <td>0.0240</td>\n",
       "      <td>0.0056</td>\n",
       "      <td>45.4211</td>\n",
       "      <td>42.8</td>\n",
       "      <td>2015</td>\n",
       "      <td>4</td>\n",
       "    </tr>\n",
       "    <tr>\n",
       "      <th>3</th>\n",
       "      <td>S11</td>\n",
       "      <td>2015-04-03</td>\n",
       "      <td>2015-04-11</td>\n",
       "      <td>2015-04-11</td>\n",
       "      <td>Grab</td>\n",
       "      <td>Base</td>\n",
       "      <td>0.0245</td>\n",
       "      <td>0.0174</td>\n",
       "      <td>46.5769</td>\n",
       "      <td>43.0</td>\n",
       "      <td>2015</td>\n",
       "      <td>4</td>\n",
       "    </tr>\n",
       "    <tr>\n",
       "      <th>4</th>\n",
       "      <td>S11</td>\n",
       "      <td>2015-04-11</td>\n",
       "      <td>2015-04-17</td>\n",
       "      <td>2015-04-17</td>\n",
       "      <td>Grab</td>\n",
       "      <td>Base</td>\n",
       "      <td>0.0250</td>\n",
       "      <td>0.0166</td>\n",
       "      <td>48.2718</td>\n",
       "      <td>43.0</td>\n",
       "      <td>2015</td>\n",
       "      <td>4</td>\n",
       "    </tr>\n",
       "  </tbody>\n",
       "</table>\n",
       "</div>"
      ],
      "text/plain": [
       "  Site Start date   End date Sample date Collection method Sample type  \\\n",
       "0  S11 2015-03-15 2015-03-20  2015-03-20              Grab        Base   \n",
       "1  S11 2015-03-20 2015-03-27  2015-03-27              Grab        Base   \n",
       "2  S11 2015-03-27 2015-04-03  2015-04-03              Grab        Base   \n",
       "3  S11 2015-04-03 2015-04-11  2015-04-11              Grab        Base   \n",
       "4  S11 2015-04-11 2015-04-17  2015-04-17              Grab        Base   \n",
       "\n",
       "     Flow     NH3      NOx    TN  Year  Month  \n",
       "0  0.0060  0.0137  50.9792  41.6  2015      3  \n",
       "1  0.0060  0.0042  48.7837  40.8  2015      3  \n",
       "2  0.0240  0.0056  45.4211  42.8  2015      4  \n",
       "3  0.0245  0.0174  46.5769  43.0  2015      4  \n",
       "4  0.0250  0.0166  48.2718  43.0  2015      4  "
      ]
     },
     "execution_count": 9,
     "metadata": {},
     "output_type": "execute_result"
    }
   ],
   "source": [
    "# extract year and month from sample dates, then visualize the N concentration distribution by sites and years\n",
    "df_nitrogen['Year'] = pd.DatetimeIndex(df_nitrogen['Sample date']).year\n",
    "df_nitrogen['Month'] = pd.DatetimeIndex(df_nitrogen['Sample date']).month\n",
    "df_nitrogen.head()"
   ]
  },
  {
   "cell_type": "code",
   "execution_count": 10,
   "metadata": {},
   "outputs": [
    {
     "data": {
      "image/png": "[encoded data removed]",
      "text/plain": [
       "<Figure size 432x288 with 1 Axes>"
      ]
     },
     "metadata": {
      "needs_background": "light"
     },
     "output_type": "display_data"
    },
    {
     "data": {
      "image/png": "[encoded data removed]",
      "text/plain": [
       "<Figure size 432x288 with 1 Axes>"
      ]
     },
     "metadata": {
      "needs_background": "light"
     },
     "output_type": "display_data"
    },
    {
     "data": {
      "image/png": "[encoded data removed]",
      "text/plain": [
       "<Figure size 432x288 with 1 Axes>"
      ]
     },
     "metadata": {
      "needs_background": "light"
     },
     "output_type": "display_data"
    }
   ],
   "source": [
    "list_of_analytes = ['NH3', 'NOx', 'TN']\n",
    "\n",
    "for x in list_of_analytes:\n",
    "    ax = sns.boxplot(x='Year', y=x, data=df_nitrogen, hue='Site')\n",
    "    plt.show()"
   ]
  },
  {
   "cell_type": "code",
   "execution_count": 11,
   "metadata": {},
   "outputs": [
    {
     "name": "stdout",
     "output_type": "stream",
     "text": [
      "(421, 4) (421,)\n"
     ]
    }
   ],
   "source": [
    "# implement random forest\n",
    "from sklearn.model_selection import train_test_split\n",
    "\n",
    "# Use location, month, sample type, and flow to predict TN concentration\n",
    "# other factors that can be used: sample date, year, etc. (see available data columns above)\n",
    "# consider merging weather data (require to be pre-processed, such as calculating daily precip, antecedent precip, etc. - need to have same length as df_nitrogen dataset)\n",
    "X = df_nitrogen[['Site', 'Month', 'Sample type', 'Flow']]\n",
    "\n",
    "# setting TN concentration as the \"target\"\n",
    "y = df_nitrogen['TN']\n",
    "\n",
    "print (X.shape, y.shape)"
   ]
  },
  {
   "cell_type": "code",
   "execution_count": 12,
   "metadata": {},
   "outputs": [
    {
     "name": "stdout",
     "output_type": "stream",
     "text": [
      "(315, 4) (315,)\n"
     ]
    }
   ],
   "source": [
    "X_train, X_test, Y_train, Y_test = train_test_split (X, y, test_size = 0.25, random_state = 0)\n",
    "print(X_train.shape, Y_train.shape)"
   ]
  },
  {
   "cell_type": "code",
   "execution_count": 13,
   "metadata": {},
   "outputs": [],
   "source": [
    "reg = ske.RandomForestRegressor(n_estimators = 1000, random_state = 0)"
   ]
  },
  {
   "cell_type": "code",
   "execution_count": 14,
   "metadata": {},
   "outputs": [
    {
     "name": "stderr",
     "output_type": "stream",
     "text": [
      "C:\\Users\\jiyeow\\AppData\\Local\\Continuum\\anaconda3\\lib\\site-packages\\pandas\\core\\frame.py:3391: SettingWithCopyWarning: \n",
      "A value is trying to be set on a copy of a slice from a DataFrame.\n",
      "Try using .loc[row_indexer,col_indexer] = value instead\n",
      "\n",
      "See the caveats in the documentation: http://pandas.pydata.org/pandas-docs/stable/indexing.html#indexing-view-versus-copy\n",
      "  self[k1] = value[k2]\n"
     ]
    }
   ],
   "source": [
    "# transform string data (i.e., site and sample type) into incremental value using label encoder\n",
    "from sklearn import preprocessing\n",
    "\n",
    "le = preprocessing.LabelEncoder()\n",
    "for i in range(len(X_train)):\n",
    "    X_train[['Site','Sample type']]= X_train[['Site','Sample type']].apply(le.fit_transform)\n",
    "    X_test[['Site','Sample type']]= X_test[['Site','Sample type']].apply(le.fit_transform)\n"
   ]
  },
  {
   "cell_type": "code",
   "execution_count": 15,
   "metadata": {},
   "outputs": [
    {
     "data": {
      "text/plain": [
       "RandomForestRegressor(bootstrap=True, criterion='mse', max_depth=None,\n",
       "                      max_features='auto', max_leaf_nodes=None,\n",
       "                      min_impurity_decrease=0.0, min_impurity_split=None,\n",
       "                      min_samples_leaf=1, min_samples_split=2,\n",
       "                      min_weight_fraction_leaf=0.0, n_estimators=1000,\n",
       "                      n_jobs=None, oob_score=False, random_state=0, verbose=0,\n",
       "                      warm_start=False)"
      ]
     },
     "execution_count": 15,
     "metadata": {},
     "output_type": "execute_result"
    }
   ],
   "source": [
    "reg.fit(X_train, Y_train)"
   ]
  },
  {
   "cell_type": "code",
   "execution_count": 16,
   "metadata": {},
   "outputs": [
    {
     "name": "stdout",
     "output_type": "stream",
     "text": [
      "0.7365878346665913\n",
      "4.311318507436367\n",
      "40.21411104056344\n",
      "0.7324191066932051\n",
      "[0.69687403 0.0861549  0.01225508 0.20471599]\n"
     ]
    }
   ],
   "source": [
    "Y_pred = reg.predict(X_test)\n",
    "\n",
    "from sklearn.metrics import explained_variance_score, mean_absolute_error, mean_squared_error, r2_score\n",
    "\n",
    "print(explained_variance_score(Y_test, Y_pred))\n",
    "print(mean_absolute_error(Y_test, Y_pred))\n",
    "print(mean_squared_error(Y_test, Y_pred))\n",
    "print(r2_score(Y_test, Y_pred))\n",
    "print(reg.feature_importances_)"
   ]
  },
  {
   "cell_type": "code",
   "execution_count": 22,
   "metadata": {},
   "outputs": [],
   "source": [
    "fet_ind = np.argsort(reg.feature_importances_)[::-1]\n",
    "fet_imp = reg.feature_importances_[np.argsort(reg.feature_importances_)][::-1]"
   ]
  },
  {
   "cell_type": "code",
   "execution_count": 23,
   "metadata": {},
   "outputs": [
    {
     "data": {
      "text/plain": [
       "Text(0.5, 1.0, 'Feature importance')"
      ]
     },
     "execution_count": 23,
     "metadata": {},
     "output_type": "execute_result"
    },
    {
     "data": {
      "image/png": "[encoded data removed]",
      "text/plain": [
       "<Figure size 576x216 with 1 Axes>"
      ]
     },
     "metadata": {
      "needs_background": "light"
     },
     "output_type": "display_data"
    }
   ],
   "source": [
    "fig, ax = plt.subplots(1, 1, figsize=(8,3))\n",
    "labels = np.asarray(X_train.columns[fet_ind])\n",
    "pd.Series(fet_imp, index = labels).plot('bar', ax=ax)\n",
    "ax.set_title('Feature importance')"
   ]
  },
  {
   "cell_type": "code",
   "execution_count": 24,
   "metadata": {},
   "outputs": [
    {
     "data": {
      "text/plain": [
       "Text(0, 0.5, 'NOx conc')"
      ]
     },
     "execution_count": 24,
     "metadata": {},
     "output_type": "execute_result"
    },
    {
     "data": {
      "image/png": "[encoded data removed]",
      "text/plain": [
       "<Figure size 576x216 with 1 Axes>"
      ]
     },
     "metadata": {
      "needs_background": "light"
     },
     "output_type": "display_data"
    }
   ],
   "source": [
    "fig, ax = plt.subplots(1, 1, figsize=(8,3))\n",
    "ax.scatter(X['Site'],y)\n",
    "ax.set_xlabel('Site')\n",
    "ax.set_ylabel('NOx conc')"
   ]
  },
  {
   "cell_type": "code",
   "execution_count": null,
   "metadata": {},
   "outputs": [],
   "source": []
  },
  {
   "cell_type": "code",
   "execution_count": null,
   "metadata": {},
   "outputs": [],
   "source": []
  },
  {
   "cell_type": "code",
   "execution_count": null,
   "metadata": {},
   "outputs": [],
   "source": []
  }
 ],
 "metadata": {
  "kernelspec": {
   "display_name": "Python 3",
   "language": "python",
   "name": "python3"
  },
  "language_info": {
   "codemirror_mode": {
    "name": "ipython",
    "version": 3
   },
   "file_extension": ".py",
   "mimetype": "text/x-python",
   "name": "python",
   "nbconvert_exporter": "python",
   "pygments_lexer": "ipython3",
   "version": "3.7.3"
  }
 },
 "nbformat": 4,
 "nbformat_minor": 2
}
