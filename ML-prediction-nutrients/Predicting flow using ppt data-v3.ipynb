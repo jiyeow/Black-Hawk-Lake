{
 "cells": [
  {
   "cell_type": "markdown",
   "metadata": {},
   "source": [
    "#### The goal of this project file is to predict flow using ppt data"
   ]
  },
  {
   "cell_type": "markdown",
   "metadata": {},
   "source": [
    "Version 3: \n",
    "- predict all subwatersheds flow in 2018\n",
    "- used '#' to skip random grid model to save processing time. The base model appears to perform well.\n",
    "- I accidentally included 2018 data in the training dataset, which caused the predicted 2018 values to be very accurate. This version only uses 2015-17 data to train.\n",
    "- also used '#' to skip \"Avg ISCO sample flow' prediction because it was kinda useless"
   ]
  },
  {
   "cell_type": "code",
   "execution_count": 2,
   "metadata": {},
   "outputs": [],
   "source": [
    "import pandas as pd\n",
    "import math\n",
    "import numpy as np\n",
    "import sklearn as sk\n",
    "import sklearn.datasets as skd\n",
    "import sklearn.ensemble as ske\n",
    "import matplotlib.pyplot as plt\n",
    "import seaborn as sns\n",
    "import datetime as dt\n",
    "from pprint import pprint\n",
    "\n",
    "%matplotlib inline"
   ]
  },
  {
   "cell_type": "code",
   "execution_count": 3,
   "metadata": {},
   "outputs": [],
   "source": [
    "# importing flow dataset\n",
    "df_flow = pd.read_excel('Daily ISCO flow and precipitation.xlsx', sheet_name = 'Sheet1')\n",
    "\n",
    "\n",
    "df_flow = df_flow.drop(columns=['Daily precip (in)','Daily precip (mm)','S12-ISCO flow (cms)','T12-ISCO flow (cms)'])\n",
    "\n",
    "df_flow = df_flow.rename(columns={'T8-ISCO flow (cms)':'Flow8', 'S11-ISCO flow (cms)':'Flow11', 'S12+T12':'Flow12'})\n",
    "\n",
    "#df_flow = pd.DataFrame(df_flow, columns=['Sample date', 'Sample type', 'Site', 'Flow'])\n",
    "#df_flow.describe()"
   ]
  },
  {
   "cell_type": "code",
   "execution_count": 4,
   "metadata": {},
   "outputs": [],
   "source": [
    "# importing weather dataset\n",
    "df_weather = pd.read_excel('Weather data.xlsx', sheet_name = 'Weather')\n",
    "df_weather = df_weather.rename(columns={'ppt (mm)':'ppt','tmin (degrees C)':'tmin','tmean (degrees C)':'tmean',\n",
    "                                        'tmax (degrees C)':'tmax', 'tdmean (degrees C)':'tdew', 'vpdmin (hPa)': 'vpdmin', \n",
    "                                        'vpdmax (hPa)': 'vpdmax'})\n",
    "\n",
    "df_weather['Year'] = pd.DatetimeIndex(df_weather['Date']).year\n",
    "df_weather['Month'] = pd.DatetimeIndex(df_weather['Date']).month\n",
    "df_weather['Day'] = pd.DatetimeIndex(df_weather['Date']).day\n",
    "df_weather['Day of year'] = df_weather['Date'].dt.dayofyear\n",
    "\n",
    "# calculate antecedent ppt and temperature\n",
    "# 2-day antecedent cumulative ppt (mm)\n",
    "df_weather['2-day ppt'] = round(df_weather.iloc[:,1].rolling(window=2).sum(), 1)\n",
    "\n",
    "# 3-day antecedent cumulative ppt (mm)\n",
    "df_weather['3-day ppt'] = round(df_weather.iloc[:,1].rolling(window=3).sum(), 1)\n",
    "\n",
    "# 5-day antecedent cumulative ppt (mm)\n",
    "df_weather['5-day ppt'] = round(df_weather.iloc[:,1].rolling(window=5).sum(), 1)\n",
    "\n",
    "# 7-day antecedent cumulative ppt (mm)\n",
    "df_weather['7-day ppt'] = round(df_weather.iloc[:,1].rolling(window=7).sum(), 1)\n",
    "\n",
    "# 15-day antecedent cumulative ppt (mm)\n",
    "df_weather['15-day ppt'] = round(df_weather.iloc[:,1].rolling(window=15).sum(), 1)\n",
    "\n",
    "# 30-day antecedent cumulative ppt (mm)\n",
    "df_weather['30-day ppt'] = round(df_weather.iloc[:,1].rolling(window=30).sum(), 1)\n",
    "\n",
    "# 90-day antecedent cumulative ppt (mm)\n",
    "df_weather['90-day ppt'] = round(df_weather.iloc[:,1].rolling(window=90).sum(), 1)\n",
    "\n",
    "# 180-day antecedent cumulative ppt (mm)\n",
    "df_weather['180-day ppt'] = round(df_weather.iloc[:,1].rolling(window=180).sum(), 1)\n",
    "\n",
    "# 360-day antecedent cumulative ppt (mm)\n",
    "df_weather['360-day ppt'] = round(df_weather.iloc[:,1].rolling(window=360).sum(), 1)\n",
    "\n",
    "\n",
    "# 2-day antecedent avg temperature (ºC)\n",
    "df_weather['2-day temp'] = round(df_weather.iloc[:,3].rolling(window=2).mean(), 1)\n",
    "\n",
    "# 3-day antecedent avg temperature (ºC)\n",
    "df_weather['3-day temp'] = round(df_weather.iloc[:,3].rolling(window=3).mean(), 1)\n",
    "\n",
    "# 5-day antecedent avg temperature (ºC)\n",
    "df_weather['5-day temp'] = round(df_weather.iloc[:,3].rolling(window=5).mean(), 1)\n",
    "\n",
    "# 7-day antecedent avg temperature (ºC)\n",
    "df_weather['7-day temp'] = round(df_weather.iloc[:,3].rolling(window=7).mean(), 1)\n",
    "\n",
    "# 15-day antecedent avg temperature (ºC)\n",
    "df_weather['15-day temp'] = round(df_weather.iloc[:,3].rolling(window=15).mean(), 1)\n",
    "\n",
    "# 30-day antecedent avg temperature (ºC)\n",
    "df_weather['30-day temp'] = round(df_weather.iloc[:,3].rolling(window=30).mean(), 1)\n",
    "\n",
    "df_weather = df_weather.drop(columns=['tmin','tmax','tdew','vpdmin','vpdmax'])\n",
    "df_train = df_weather[df_weather[\"Year\"].isin([2015, 2016, 2017])]\n",
    "\n",
    "#df_weather.head()\n",
    "\n",
    "# merging flow and weather datasets\n",
    "df_merged = pd.merge(df_train, df_flow, left_on='Date', right_on='Date', how='right')\n",
    "df_merged = df_merged.dropna()\n",
    "\n",
    "writer = pd.ExcelWriter('weather_test.xlsx')\n",
    "# write dataframe to excel\n",
    "df_merged.to_excel(writer)\n",
    "# save the excel\n",
    "writer.save()\n",
    "\n",
    "#df_merged.tail()\n",
    "#df_merged.describe()"
   ]
  },
  {
   "cell_type": "markdown",
   "metadata": {},
   "source": [
    "### Training random forest to predict flow using weather data - base model"
   ]
  },
  {
   "cell_type": "code",
   "execution_count": 27,
   "metadata": {},
   "outputs": [
    {
     "name": "stdout",
     "output_type": "stream",
     "text": [
      "training period explained variance: 0.8326722347935779\n",
      "training period mean abs error: 0.017115807392727167\n",
      "training period mean squared error: 0.0017075959189403506\n",
      "training period r2: 0.8278316152525205\n"
     ]
    },
    {
     "data": {
      "text/plain": [
       "Text(0.5, 1.0, 'Feature importance')"
      ]
     },
     "execution_count": 27,
     "metadata": {},
     "output_type": "execute_result"
    },
    {
     "data": {
      "image/png": "[encoded data removed]",
      "text/plain": [
       "<Figure size 576x216 with 1 Axes>"
      ]
     },
     "metadata": {
      "needs_background": "light"
     },
     "output_type": "display_data"
    }
   ],
   "source": [
    "from sklearn.metrics import explained_variance_score, mean_absolute_error, mean_squared_error, r2_score\n",
    "\n",
    "# convert Sample date from timestamp to numeric because sklearn cannot process timestamp format\n",
    "df_merged['Date'] = pd.to_numeric(pd.to_datetime(df_merged['Date']))\n",
    "\n",
    "# implement random forest\n",
    "from sklearn.model_selection import train_test_split\n",
    "\n",
    "# change the input parameters (i.e., predictors) here \n",
    "predictors = ['Day of year', 'Month', 'ppt', '2-day ppt', '3-day ppt', '7-day ppt', '90-day ppt', '7-day temp', '30-day temp']\n",
    "X = df_merged[predictors]\n",
    "\n",
    "# change the output parameters (i.e., sub8 flow, sub11 flow, sub12 flow) here \n",
    "sub = 'Flow8'\n",
    "y = df_merged[sub]\n",
    "\n",
    "X_train, X_test, Y_train, Y_test = train_test_split (X, y, test_size = 0.2, random_state = 0)\n",
    "\n",
    "rf_base = ske.RandomForestRegressor(n_estimators = 1000, random_state = 0)\n",
    "\n",
    "rf_base.fit(X_train, Y_train)\n",
    "\n",
    "Y_pred = rf_base.predict(X_test)\n",
    "\n",
    "print('training period explained variance:', explained_variance_score(Y_test, Y_pred))\n",
    "print('training period mean abs error:',mean_absolute_error(Y_test, Y_pred))\n",
    "print('training period mean squared error:',mean_squared_error(Y_test, Y_pred))\n",
    "print('training period r2:',r2_score(Y_test, Y_pred))\n",
    "\n",
    "fet_ind = np.argsort(rf_base.feature_importances_)[::-1]\n",
    "fet_imp = rf_base.feature_importances_[np.argsort(rf_base.feature_importances_)][::-1]\n",
    "\n",
    "fig, ax = plt.subplots(1, 1, figsize=(8,3))\n",
    "labels = np.asarray(X_train.columns[fet_ind])\n",
    "pd.Series(fet_imp, index = labels).plot('bar', ax=ax)\n",
    "ax.set_title('Feature importance')"
   ]
  },
  {
   "cell_type": "markdown",
   "metadata": {},
   "source": [
    "## Predict 2018 daily data, compare with ISCO data"
   ]
  },
  {
   "cell_type": "code",
   "execution_count": 28,
   "metadata": {},
   "outputs": [
    {
     "name": "stderr",
     "output_type": "stream",
     "text": [
      "C:\\Users\\jiyeow\\AppData\\Local\\Continuum\\anaconda3\\lib\\site-packages\\ipykernel_launcher.py:24: SettingWithCopyWarning: \n",
      "A value is trying to be set on a copy of a slice from a DataFrame.\n",
      "Try using .loc[row_indexer,col_indexer] = value instead\n",
      "\n",
      "See the caveats in the documentation: http://pandas.pydata.org/pandas-docs/stable/indexing.html#indexing-view-versus-copy\n"
     ]
    },
    {
     "data": {
      "image/png": "[encoded data removed]",
      "text/plain": [
       "<Figure size 432x288 with 1 Axes>"
      ]
     },
     "metadata": {
      "needs_background": "light"
     },
     "output_type": "display_data"
    },
    {
     "name": "stdout",
     "output_type": "stream",
     "text": [
      "prediction period explained variance: 0.2715433080221398\n",
      "prediction period mean abs error: 0.03851295844839999\n",
      "prediction period mean squared error: 0.002370155034945121\n",
      "prediction period r2: 0.2676795885625315\n"
     ]
    },
    {
     "data": {
      "image/png": "[encoded data removed]",
      "text/plain": [
       "<Figure size 432x288 with 1 Axes>"
      ]
     },
     "metadata": {
      "needs_background": "light"
     },
     "output_type": "display_data"
    },
    {
     "name": "stdout",
     "output_type": "stream",
     "text": [
      "Average error: -25.34\n",
      "Median error: -7.0\n"
     ]
    }
   ],
   "source": [
    "df_weathersub = df_weather[df_weather[\"Year\"].isin([2018])]\n",
    "df_weathersub = df_weathersub.reset_index(drop=True)\n",
    "df_test = df_weathersub\n",
    "df_test = df_test[predictors]\n",
    "df_test = df_test.dropna()\n",
    "df_test = df_test.reset_index(drop=True)\n",
    "\n",
    "# If 'Date' variable is present, convert the date from timestamp to numeric because sklearn cannot process timestamp format\n",
    "#df_test['Date'] = pd.to_numeric(pd.to_datetime(df_test['Date']))\n",
    "\n",
    "# use base or random depending on model performance\n",
    "#Y_pred = rf_base.predict(df_test)\n",
    "Y_pred = rf_base.predict(df_test)\n",
    "\n",
    "\n",
    "df_predict = pd.DataFrame(Y_pred, columns=['flow_pred'])\n",
    "df_predict = pd.merge(df_test, df_predict, left_index=True, right_index=True)\n",
    "df_predict = pd.merge(df_weathersub['Date'], df_predict, left_index=True, right_index=True)\n",
    "\n",
    "#df_predict['Date'] = pd.to_datetime(df_predict['Date'])\n",
    "\n",
    "# this is ISCO daily avg flow\n",
    "df_actual = df_flow[['Date', sub]]\n",
    "df_actual['Year'] = pd.DatetimeIndex(df_actual['Date']).year\n",
    "df_actual = df_actual[df_actual[\"Year\"].isin([2018])]\n",
    "df_actual = df_actual.dropna()\n",
    "\n",
    "df_predict = pd.merge(df_predict, df_actual, left_on='Date', right_on='Date', how='right')\n",
    "df_predict['error (%)'] = round(((df_predict[sub]-df_predict['flow_pred'])/df_predict[sub]*100), 0)\n",
    "\n",
    "plt.plot(df_predict['Date'], df_predict['flow_pred'], linestyle = 'dotted', label='predicted')\n",
    "plt.xlabel('Date')\n",
    "plt.xticks(rotation = 45)\n",
    "plt.plot(df_predict['Date'], df_predict[sub], linestyle = 'dotted', label='measured')\n",
    "plt.ylabel('Predicted flow (cms)')\n",
    "plt.legend()\n",
    "plt.show()\n",
    "\n",
    "print('prediction period explained variance:',explained_variance_score(df_predict[sub], df_predict['flow_pred']))\n",
    "print('prediction period mean abs error:',mean_absolute_error(df_predict[sub], df_predict['flow_pred']))\n",
    "print('prediction period mean squared error:',mean_squared_error(df_predict[sub], df_predict['flow_pred']))\n",
    "print('prediction period r2:',r2_score(df_predict[sub], df_predict['flow_pred']))\n",
    "\n",
    "writer = pd.ExcelWriter('predict flow 2018 daily.xlsx')\n",
    "# write dataframe to excel\n",
    "df_predict.to_excel(writer)\n",
    "# save the excel\n",
    "writer.save()\n",
    "\n",
    "plt.boxplot(df_predict['error (%)'])\n",
    "plt.ylabel('Error in flow prediction (%)')\n",
    "plt.show()\n",
    "\n",
    "print('Average error:', round(df_predict['error (%)'].mean(),2))\n",
    "print('Median error:', round(df_predict['error (%)'].median(),2))"
   ]
  },
  {
   "cell_type": "markdown",
   "metadata": {},
   "source": [
    "### Using random grid model to improve base model"
   ]
  },
  {
   "cell_type": "code",
   "execution_count": null,
   "metadata": {},
   "outputs": [],
   "source": [
    "# from sklearn.model_selection import RandomizedSearchCV\n",
    "# the values below are somewhat selected arbitarily to cover a wide range of parameters\n",
    "\n",
    "# Number of trees in random forest\n",
    "#n_estimators = [int(x) for x in np.linspace(start = 200, stop = 2000, num = 10)]\n",
    "\n",
    "# Number of features to consider at every split\n",
    "#max_features = ['auto', 'sqrt']\n",
    "\n",
    "# Maximum number of levels in tree\n",
    "#max_depth = [int(x) for x in np.linspace(10, 110, num = 11)]\n",
    "#max_depth.append(None)\n",
    "\n",
    "# Minimum number of samples required to split a node\n",
    "#min_samples_split = [2, 5, 10]\n",
    "\n",
    "# Minimum number of samples required at each leaf node\n",
    "#min_samples_leaf = [1, 2, 4]\n",
    "\n",
    "# Method of selecting samples for training each tree\n",
    "#bootstrap = [True, False]\n",
    "\n",
    "# Create the random grid\n",
    "#random_grid = {'n_estimators': n_estimators,\n",
    "#               'max_features': max_features,\n",
    "#               'max_depth': max_depth,\n",
    "#               'min_samples_split': min_samples_split,\n",
    "#               'min_samples_leaf': min_samples_leaf,\n",
    "#               'bootstrap': bootstrap}\n",
    "\n",
    "#pprint(random_grid)"
   ]
  },
  {
   "cell_type": "code",
   "execution_count": null,
   "metadata": {},
   "outputs": [],
   "source": [
    "# Use the random grid to search for best hyperparameters\n",
    "#rf = ske.RandomForestRegressor()\n",
    "\n",
    "# Random search of parameters, using 3 fold cross validation, \n",
    "# search across 100 different combinations, and use all available cores\n",
    "#rf_random = RandomizedSearchCV(estimator = rf, param_distributions = random_grid, n_iter = 100, cv = 3, verbose=2, random_state=0, n_jobs = 1)\n",
    "# Fit the random search model\n",
    "#rf_random.fit(X_train, Y_train)"
   ]
  },
  {
   "cell_type": "code",
   "execution_count": null,
   "metadata": {},
   "outputs": [],
   "source": [
    "#Y_pred = rf_random.predict(X_test)\n",
    "\n",
    "#print('training period explained variance:', explained_variance_score(Y_test, Y_pred))\n",
    "#print('training period mean abs error:',mean_absolute_error(Y_test, Y_pred))\n",
    "#print('training period mean squared error:',mean_squared_error(Y_test, Y_pred))\n",
    "#print('training period r2:',r2_score(Y_test, Y_pred))"
   ]
  },
  {
   "cell_type": "code",
   "execution_count": null,
   "metadata": {},
   "outputs": [],
   "source": [
    "#def evaluate(model, X_train, Y_train):\n",
    "#    predictions = model.predict(X_train)\n",
    "#    errors = abs(predictions - Y_train)\n",
    "#    mape = 100 * np.mean(errors / Y_train)\n",
    "#    accuracy = 100 - mape\n",
    "#    print('Model Performance')\n",
    "#    print('Average Error: {:0.4f} cms.'.format(np.mean(errors)))\n",
    "#    print('Accuracy = {:0.2f}%.'.format(accuracy))\n",
    "    \n",
    "#    return accuracy\n",
    "\n",
    "#class color:\n",
    "#    BLUE = '\\033[94m'\n",
    "#    BOLD = '\\033[1m'\n",
    "#    END = '\\033[0m'\n",
    "\n",
    "#print(color.BOLD + color.BLUE + 'For Base Model' + color.END)\n",
    "#base_accuracy = evaluate(rf_base, X_train, Y_train)\n",
    "\n",
    "#print(color.BOLD + color.BLUE + 'For Random Model' + color.END)\n",
    "#best_random = rf_random.best_estimator_\n",
    "#random_accuracy = evaluate(best_random, X_train, Y_train)\n",
    "\n",
    "#print(color.BOLD + color.BLUE + 'Base vs random model comparison' + color.END)\n",
    "#print('Improvement of {:0.2f}%.'.format( 100 * (random_accuracy - base_accuracy) / base_accuracy))\n",
    "\n",
    "#pprint(rf_random.best_params_)"
   ]
  },
  {
   "cell_type": "code",
   "execution_count": null,
   "metadata": {},
   "outputs": [],
   "source": [
    "#from sklearn.model_selection import GridSearchCV\n",
    "\n",
    "# if the random model performed better than the base model, then use the best random grid to create range of each hyperparameter\n",
    "\n",
    "# Number of trees in random forest\n",
    "#n_estimators = [int(x) for x in np.linspace(start = 200, stop = 2000, num = 10)]\n",
    "\n",
    "# Number of features to consider at every split\n",
    "#max_features = ['sqrt']\n",
    "\n",
    "# Maximum number of levels in tree\n",
    "#max_depth = [int(x) for x in np.linspace(10, 110, num = 11)]\n",
    "#max_depth.append(None)\n",
    "\n",
    "# Minimum number of samples required to split a node\n",
    "#min_samples_split = [2, 3, 4]\n",
    "\n",
    "# Minimum number of samples required at each leaf node\n",
    "#min_samples_leaf = [1, 2, 3]\n",
    "\n",
    "# Method of selecting samples for training each tree\n",
    "#bootstrap = [False]\n",
    "\n",
    "# Create the better grid\n",
    "#better_grid = {'n_estimators': n_estimators,\n",
    "#               'max_features': max_features,\n",
    "#               'max_depth': max_depth,\n",
    "#               'min_samples_split': min_samples_split,\n",
    "#               'min_samples_leaf': min_samples_leaf,\n",
    "#               'bootstrap': bootstrap}\n",
    "\n",
    "# We used randamized search to identify the better grid (i.e., narrow down the range for each hyperparameter)\n",
    "# Now we use the better grid to instantiate the grid search model\n",
    "#grid_search = GridSearchCV(estimator = rf, param_grid = better_grid, \n",
    "#                          cv = 3, n_jobs = 1, verbose = 2)\n"
   ]
  },
  {
   "cell_type": "code",
   "execution_count": null,
   "metadata": {},
   "outputs": [],
   "source": [
    "# Fit the grid search to the data\n",
    "#grid_search.fit(X_train, Y_train)\n",
    "#grid_search.best_params_\n",
    "\n",
    "#best_grid = grid_search.best_estimator_\n",
    "#grid_accuracy = evaluate(best_grid, X_train, Y_train)\n",
    "\n",
    "#print('Improvement of {:0.2f}%.'.format( 100 * (grid_accuracy - base_accuracy) / base_accuracy))"
   ]
  },
  {
   "cell_type": "code",
   "execution_count": null,
   "metadata": {},
   "outputs": [],
   "source": [
    "#Y_pred = rf_random.predict(X_test)\n",
    "\n",
    "#print('training period explained variance:', explained_variance_score(Y_test, Y_pred))\n",
    "#print('training period mean abs error:',mean_absolute_error(Y_test, Y_pred))\n",
    "#print('training period mean squared error:',mean_squared_error(Y_test, Y_pred))\n",
    "#print('training period r2:',r2_score(Y_test, Y_pred))"
   ]
  },
  {
   "cell_type": "markdown",
   "metadata": {},
   "source": [
    "## Predict 2018 data, then compare against actual sample avg flow data"
   ]
  },
  {
   "cell_type": "code",
   "execution_count": null,
   "metadata": {},
   "outputs": [],
   "source": [
    "#df_test = df_weather[df_weather[\"Year\"].isin([2018])]\n",
    "#df_test = df_test.reset_index(drop=True)\n",
    "#df_test = pd.merge(df_weather, df_testraw, left_on='Date', right_on='Sample date', how='inner')\n",
    "\n",
    "# convert Sample date from timestamp to numeric because sklearn cannot process timestamp format\n",
    "#df_test['Date'] = pd.to_numeric(pd.to_datetime(df_test['Date']))\n",
    "#df_test = df_test[predictors]\n",
    "\n",
    "# use base or random depending on model performance\n",
    "#Y_pred = rf_base.predict(df_test)\n",
    "#Y_pred = rf_random.predict(df_test)\n",
    "\n",
    "#df_predict = pd.DataFrame(Y_pred, columns=['flow_pred'])\n",
    "#df_predict = pd.merge(df_test, df_predict, left_index=True, right_index=True)\n",
    "\n",
    "# this is flow-weighted sample avg flow\n",
    "#df_actual = pd.read_excel('Test data 2018.xlsx', sheet_name = 'By subwatershed')\n",
    "#df_actual = df_actual[(df_actual['Site'] == 'Sub8') & (df_actual['Sample type'] == 'Base')]\n",
    "#df_actual = df_actual[['Sample date','Flow (cms)']]\n",
    "#df_actual = df_actual.dropna()\n",
    "\n",
    "#df_predict = pd.merge(df_actual, df_predict['flow_pred'], left_index=True, right_index=True)\n",
    "#df_predict['error (%)'] = round(((df_predict['Flow (cms)']-df_predict['flow_pred'])/df_predict['Flow (cms)']*100), 0)\n",
    "\n",
    "#df_predict['Sample date'] = pd.to_datetime(df_predict['Sample date'])\n",
    "\n",
    "#print('prediction period explained variance:',explained_variance_score(df_predict['Flow (cms)'], df_predict['flow_pred']))\n",
    "#print('prediction period mean abs error:',mean_absolute_error(df_predict['Flow (cms)'], df_predict['flow_pred']))\n",
    "#print('prediction period mean squared error:',mean_squared_error(df_predict['Flow (cms)'], df_predict['flow_pred']))\n",
    "#print('prediction period r2:',r2_score(df_predict['Flow (cms)'], df_predict['flow_pred']))\n",
    "\n",
    "#plt.scatter(df_predict['Flow (cms)'], df_predict['flow_pred'])\n",
    "#plt.xlabel('Actual flow (cms)')\n",
    "#plt.ylabel('Predicted flow (cms)')"
   ]
  },
  {
   "cell_type": "code",
   "execution_count": null,
   "metadata": {},
   "outputs": [],
   "source": [
    "#writer = pd.ExcelWriter('predict flow 2018.xlsx')\n",
    "# write dataframe to excel\n",
    "#df_predict.to_excel(writer)\n",
    "# save the excel\n",
    "#writer.save()"
   ]
  },
  {
   "cell_type": "code",
   "execution_count": null,
   "metadata": {},
   "outputs": [],
   "source": []
  },
  {
   "cell_type": "code",
   "execution_count": null,
   "metadata": {},
   "outputs": [],
   "source": []
  },
  {
   "cell_type": "code",
   "execution_count": null,
   "metadata": {},
   "outputs": [],
   "source": []
  },
  {
   "cell_type": "code",
   "execution_count": null,
   "metadata": {},
   "outputs": [],
   "source": []
  }
 ],
 "metadata": {
  "kernelspec": {
   "display_name": "Python 3",
   "language": "python",
   "name": "python3"
  },
  "language_info": {
   "codemirror_mode": {
    "name": "ipython",
    "version": 3
   },
   "file_extension": ".py",
   "mimetype": "text/x-python",
   "name": "python",
   "nbconvert_exporter": "python",
   "pygments_lexer": "ipython3",
   "version": "3.7.3"
  }
 },
 "nbformat": 4,
 "nbformat_minor": 2
}
