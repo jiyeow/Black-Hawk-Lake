{
 "cells": [
  {
   "cell_type": "markdown",
   "metadata": {},
   "source": [
    "This program is used to calculate average flow rate for each ISCO sampling event. \n",
    "\n",
    "For future development - this code should be modified so that it is able to run in \"Terminal\" to iterate through all ISCO Flowlink output (raw flow data)."
   ]
  },
  {
   "cell_type": "code",
   "execution_count": 1,
   "metadata": {},
   "outputs": [],
   "source": [
    "import pandas as pd"
   ]
  },
  {
   "cell_type": "code",
   "execution_count": 2,
   "metadata": {},
   "outputs": [],
   "source": [
    "# I used 99 to mark as the start of sampling event (especialyl useful for to identify when ISCO sampler was restarted)\n",
    "data = pd.read_csv('T8_all_flow.csv')\n",
    "data = data.fillna(0)"
   ]
  },
  {
   "cell_type": "code",
   "execution_count": 3,
   "metadata": {},
   "outputs": [
    {
     "data": {
      "text/html": [
       "<div>\n",
       "<style scoped>\n",
       "    .dataframe tbody tr th:only-of-type {\n",
       "        vertical-align: middle;\n",
       "    }\n",
       "\n",
       "    .dataframe tbody tr th {\n",
       "        vertical-align: top;\n",
       "    }\n",
       "\n",
       "    .dataframe thead th {\n",
       "        text-align: right;\n",
       "    }\n",
       "</style>\n",
       "<table border=\"1\" class=\"dataframe\">\n",
       "  <thead>\n",
       "    <tr style=\"text-align: right;\">\n",
       "      <th></th>\n",
       "      <th>Datetime</th>\n",
       "      <th>Flow Rate</th>\n",
       "      <th>Sample Event</th>\n",
       "    </tr>\n",
       "  </thead>\n",
       "  <tbody>\n",
       "    <tr>\n",
       "      <th>0</th>\n",
       "      <td>4/6/2015 14:17</td>\n",
       "      <td>0.000</td>\n",
       "      <td>0.0</td>\n",
       "    </tr>\n",
       "    <tr>\n",
       "      <th>1</th>\n",
       "      <td>4/6/2015 14:18</td>\n",
       "      <td>0.016</td>\n",
       "      <td>0.0</td>\n",
       "    </tr>\n",
       "    <tr>\n",
       "      <th>2</th>\n",
       "      <td>4/6/2015 14:19</td>\n",
       "      <td>0.024</td>\n",
       "      <td>0.0</td>\n",
       "    </tr>\n",
       "    <tr>\n",
       "      <th>3</th>\n",
       "      <td>4/6/2015 14:20</td>\n",
       "      <td>0.031</td>\n",
       "      <td>0.0</td>\n",
       "    </tr>\n",
       "    <tr>\n",
       "      <th>4</th>\n",
       "      <td>4/6/2015 14:21</td>\n",
       "      <td>0.032</td>\n",
       "      <td>0.0</td>\n",
       "    </tr>\n",
       "  </tbody>\n",
       "</table>\n",
       "</div>"
      ],
      "text/plain": [
       "         Datetime  Flow Rate  Sample Event\n",
       "0  4/6/2015 14:17      0.000           0.0\n",
       "1  4/6/2015 14:18      0.016           0.0\n",
       "2  4/6/2015 14:19      0.024           0.0\n",
       "3  4/6/2015 14:20      0.031           0.0\n",
       "4  4/6/2015 14:21      0.032           0.0"
      ]
     },
     "execution_count": 3,
     "metadata": {},
     "output_type": "execute_result"
    }
   ],
   "source": [
    "data.head()"
   ]
  },
  {
   "cell_type": "code",
   "execution_count": 4,
   "metadata": {},
   "outputs": [
    {
     "data": {
      "text/html": [
       "<div>\n",
       "<style scoped>\n",
       "    .dataframe tbody tr th:only-of-type {\n",
       "        vertical-align: middle;\n",
       "    }\n",
       "\n",
       "    .dataframe tbody tr th {\n",
       "        vertical-align: top;\n",
       "    }\n",
       "\n",
       "    .dataframe thead th {\n",
       "        text-align: right;\n",
       "    }\n",
       "</style>\n",
       "<table border=\"1\" class=\"dataframe\">\n",
       "  <thead>\n",
       "    <tr style=\"text-align: right;\">\n",
       "      <th></th>\n",
       "      <th>date_time</th>\n",
       "      <th>avg_flow</th>\n",
       "      <th>sampling</th>\n",
       "    </tr>\n",
       "  </thead>\n",
       "  <tbody>\n",
       "    <tr>\n",
       "      <th>0</th>\n",
       "      <td>NaN</td>\n",
       "      <td>NaN</td>\n",
       "      <td>NaN</td>\n",
       "    </tr>\n",
       "    <tr>\n",
       "      <th>1</th>\n",
       "      <td>NaN</td>\n",
       "      <td>NaN</td>\n",
       "      <td>NaN</td>\n",
       "    </tr>\n",
       "    <tr>\n",
       "      <th>2</th>\n",
       "      <td>NaN</td>\n",
       "      <td>NaN</td>\n",
       "      <td>NaN</td>\n",
       "    </tr>\n",
       "    <tr>\n",
       "      <th>3</th>\n",
       "      <td>NaN</td>\n",
       "      <td>NaN</td>\n",
       "      <td>NaN</td>\n",
       "    </tr>\n",
       "    <tr>\n",
       "      <th>4</th>\n",
       "      <td>NaN</td>\n",
       "      <td>NaN</td>\n",
       "      <td>NaN</td>\n",
       "    </tr>\n",
       "  </tbody>\n",
       "</table>\n",
       "</div>"
      ],
      "text/plain": [
       "  date_time avg_flow sampling\n",
       "0       NaN      NaN      NaN\n",
       "1       NaN      NaN      NaN\n",
       "2       NaN      NaN      NaN\n",
       "3       NaN      NaN      NaN\n",
       "4       NaN      NaN      NaN"
      ]
     },
     "execution_count": 4,
     "metadata": {},
     "output_type": "execute_result"
    }
   ],
   "source": [
    "output = pd.DataFrame(columns=['date_time', 'avg_flow', 'sampling'], index=data.index) \n",
    "# this dataframe is too big, but if I remove index=something, the code below won't work.\n",
    "# just use remove empty rows later on\n",
    "output.head()"
   ]
  },
  {
   "cell_type": "code",
   "execution_count": null,
   "metadata": {},
   "outputs": [],
   "source": [
    "# fill in missing flow data using linear interpolation\n",
    "numrows = len(data.index)\n",
    "i = 1\n",
    "\n",
    "while i < numrows:\n",
    "    flow1 = data.iloc[i,1]\n",
    "    \n",
    "    if flow1 is None:\n",
    "        flow1= (data.iloc[i-1,1]+data.iloc[i+1,1])/2"
   ]
  },
  {
   "cell_type": "code",
   "execution_count": null,
   "metadata": {},
   "outputs": [],
   "source": [
    "# calculate average flow each sample\n",
    "numrows = len(data.index)\n",
    "#numrows = 5000    #to save time, use 5000 rows for testing\n",
    "\n",
    "i = 0\n",
    "y=0\n",
    "cum_flow = 0\n",
    "n=0\n",
    "\n",
    "while i < numrows:\n",
    "    date1 = data.iloc[i,0]\n",
    "    flow = data.iloc[i,1]\n",
    "    sampling = data.iloc[i,2]\n",
    "    \n",
    "    if sampling == 0:\n",
    "        cum_flow = cum_flow + flow\n",
    "        n=n+1\n",
    "    else:\n",
    "        print(date1)\n",
    "        if n == 0:\n",
    "            n=1\n",
    "        avg_flow = cum_flow / n\n",
    "        # output the values, then reset to zero\n",
    "        #print(cum_flow)\n",
    "        #print(avg_flow)\n",
    "        #print(n)\n",
    "        output.loc[y].date_time = date1\n",
    "        output.loc[y].avg_flow = avg_flow\n",
    "        output.loc[y].sampling = sampling\n",
    "        y=y+1\n",
    "        \n",
    "        n = 0\n",
    "        cum_flow = 0\n",
    "    \n",
    "    i=i+1"
   ]
  },
  {
   "cell_type": "code",
   "execution_count": null,
   "metadata": {},
   "outputs": [],
   "source": [
    "output = output.dropna()\n",
    "output"
   ]
  },
  {
   "cell_type": "code",
   "execution_count": null,
   "metadata": {},
   "outputs": [],
   "source": []
  }
 ],
 "metadata": {
  "kernelspec": {
   "display_name": "Python 3",
   "language": "python",
   "name": "python3"
  },
  "language_info": {
   "codemirror_mode": {
    "name": "ipython",
    "version": 3
   },
   "file_extension": ".py",
   "mimetype": "text/x-python",
   "name": "python",
   "nbconvert_exporter": "python",
   "pygments_lexer": "ipython3",
   "version": "3.7.3"
  }
 },
 "nbformat": 4,
 "nbformat_minor": 2
}
